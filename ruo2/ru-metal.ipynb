{
 "cells": [
  {
   "cell_type": "code",
   "execution_count": 1,
   "id": "5d9c74e9",
   "metadata": {},
   "outputs": [
    {
     "name": "stdout",
     "output_type": "stream",
     "text": [
      "   Metal  #M  #O  #N    G_form     E_oxide  Gcorr_oxide    G_oxide    G_metal\n",
      "0    0.0   1   2   8 -1.764884 -178.209633          0.0 -22.276204 -10.583464\n",
      "1    1.0   1   2   8 -1.764884 -170.091905          0.0 -21.261488  -9.568748\n",
      "2    2.0   1   2   8 -1.764884 -162.787618          0.0 -20.348452  -8.655713\n",
      "3    2.5   1   2   8 -1.764884 -159.487869          0.0 -19.935984  -8.243244\n",
      "4    3.0   1   2   8 -1.764884 -156.329337          0.0 -19.541167  -7.848428\n",
      "5    4.0   1   2   8 -1.764884 -150.341861          0.0 -18.792733  -7.099993\n"
     ]
    }
   ],
   "source": [
    "import pandas as pd\n",
    "\n",
    "kjmol = 96.485\n",
    "calmol = 23.061\n",
    "\n",
    "h2o = -14.23091949\n",
    "cvh2o = 0.103\n",
    "tsh2o = 0.675\n",
    "zpeh2o = 0.558\n",
    "gh2o = h2o + cvh2o - tsh2o + zpeh2o\n",
    "\n",
    "h2 = -6.77149190\n",
    "cvh2 = 0.0905\n",
    "tsh2 = 0.408\n",
    "zpeh2 = 0.268\n",
    "gh2 = h2 + cvh2 - tsh2 + zpeh2\n",
    "gh = gh2 / 2\n",
    "\n",
    "go = gh2o - gh2 + 2.46\n",
    "ho = -5.9248399 / 2\n",
    "\n",
    "metals = [\n",
    "    # Ueff, #M, #O, #N, G_form, E_oxide, Gcorr_oxide\n",
    "    [0.0, 1, 2, 8, -40.700, -178.20963279, 0.0],\n",
    "    [1.0, 1, 2, 8, -40.700, -170.09190453, 0.0],\n",
    "    [2.0, 1, 2, 8, -40.700, -162.78761804, 0.0],\n",
    "    [2.5, 1, 2, 8, -40.700, -159.48786920, 0.0],\n",
    "    [3.0, 1, 2, 8, -40.700, -156.32933730, 0.0],\n",
    "    [4.0, 1, 2, 8, -40.700, -150.34186082, 0.0],\n",
    "]\n",
    "\n",
    "Gcorr_oxide = -9.243204045 + 2*go -40.700/calmol +178.20963279 / 8\n",
    "\n",
    "columns = ['Metal', '#M', '#O', '#N', 'G_form', 'E_oxide', 'Gcorr_oxide']\n",
    "df = pd.DataFrame(metals, columns=columns)\n",
    "\n",
    "df['G_form'] = df['G_form'] / df['#M'] / calmol\n",
    "df['G_oxide'] = (df['E_oxide'] + df['Gcorr_oxide'] ) / df['#M'] / df['#N'] #+ Gcorr_oxide\n",
    "df['G_metal'] = df['G_oxide'] - df['G_form'] - df['#O'] / df['#M'] * go\n",
    "\n",
    "print(df)"
   ]
  }
 ],
 "metadata": {
  "kernelspec": {
   "display_name": "base",
   "language": "python",
   "name": "python3"
  },
  "language_info": {
   "codemirror_mode": {
    "name": "ipython",
    "version": 3
   },
   "file_extension": ".py",
   "mimetype": "text/x-python",
   "name": "python",
   "nbconvert_exporter": "python",
   "pygments_lexer": "ipython3",
   "version": "3.11.5"
  }
 },
 "nbformat": 4,
 "nbformat_minor": 5
}
