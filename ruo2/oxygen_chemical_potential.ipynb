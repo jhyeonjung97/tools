{
 "cells": [
  {
   "cell_type": "code",
   "execution_count": 1,
   "id": "5810343d",
   "metadata": {},
   "outputs": [
    {
     "name": "stdout",
     "output_type": "stream",
     "text": [
      "from O2\n",
      "DFT+DFT:  -10.492496\n",
      "DFT+exp:  -10.587850813189295\n",
      "from H2O\n",
      "DFT+DFT:  -9.835138177357102\n",
      "DFT+exp:  -10.597599581361997\n"
     ]
    }
   ],
   "source": [
    "from surfinpy import utils as ut\n",
    "\n",
    "Oxygen_exp = ut.fit_nist(\"O2.txt\")[300]\n",
    "Water_exp = ut.fit_nist(\"H2O.txt\")[300]\n",
    "\n",
    "print('from O2') # triplet\n",
    "print('DFT+DFT: ', -9.858160 - 0.634336)\n",
    "print('DFT+exp: ', -9.858160 + Oxygen_exp)\n",
    "\n",
    "h2 = -6.77149190\n",
    "h2o = -14.23091949\n",
    "\n",
    "zpeh2o = 0.558\n",
    "cvh2o = 0.103\n",
    "tsh2o = 0.675\n",
    "\n",
    "zpeh2 = 0.268\n",
    "cvh2 = 0.0905\n",
    "tsh2 = 0.408\n",
    "\n",
    "gh2o = h2o + zpeh2o - tsh2o + cvh2o\n",
    "gh2 = h2 + zpeh2 - tsh2 + cvh2\n",
    "\n",
    "kjmol = 96.485\n",
    "calmol = 23.061\n",
    "\n",
    "print('from H2O')\n",
    "print('DFT+DFT: ', 2*gh2o - 2*gh2 + 2*241.826/kjmol)\n",
    "print('DFT+exp: ', 2*h2o - 2*h2 + 2*241.826/kjmol + Water_exp)\n"
   ]
  }
 ],
 "metadata": {
  "kernelspec": {
   "display_name": "base",
   "language": "python",
   "name": "python3"
  },
  "language_info": {
   "codemirror_mode": {
    "name": "ipython",
    "version": 3
   },
   "file_extension": ".py",
   "mimetype": "text/x-python",
   "name": "python",
   "nbconvert_exporter": "python",
   "pygments_lexer": "ipython3",
   "version": "3.11.5"
  }
 },
 "nbformat": 4,
 "nbformat_minor": 5
}
