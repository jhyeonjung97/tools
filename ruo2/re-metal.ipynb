{
 "cells": [
  {
   "cell_type": "code",
   "execution_count": null,
   "id": "5d9c74e9",
   "metadata": {},
   "outputs": [
    {
     "name": "stdout",
     "output_type": "stream",
     "text": [
      "   Metal  #M  #O  #N    G_form     E_oxide  Gcorr_oxide    G_oxide    G_metal\n",
      "0   ReO2   1   2   4 -3.859330 -106.454205          0.0 -26.613551 -12.826366\n",
      "1   ReO3   1   3   1 -5.520142  -33.650958          0.0 -33.650958 -13.239033\n",
      "2  Re2O7   2   7   8 -5.478947 -581.453097          0.0 -36.340819 -13.488125\n"
     ]
    }
   ],
   "source": [
    "import pandas as pd\n",
    "\n",
    "kjmol = 96.485\n",
    "calmol = 23.061\n",
    "\n",
    "h2o = -14.23091949\n",
    "cvh2o = 0.103\n",
    "tsh2o = 0.675\n",
    "zpeh2o = 0.558\n",
    "gh2o = h2o + cvh2o - tsh2o + zpeh2o\n",
    "\n",
    "h2 = -6.77149190\n",
    "cvh2 = 0.0905\n",
    "tsh2 = 0.408\n",
    "zpeh2 = 0.268\n",
    "gh2 = h2 + cvh2 - tsh2 + zpeh2\n",
    "gh = gh2 / 2\n",
    "\n",
    "go = gh2o - gh2 + 2.46\n",
    "ho = -5.9248399 / 2\n",
    "\n",
    "metals = [\n",
    "    # Oxide, #M, #O, #N, G_form, E_oxide, Gcorr_oxide\n",
    "    ['ReO2', 1, 2, 4, -89.000, -106.45420497, 0.0],\n",
    "    ['ReO3', 1, 3, 1, -127.300, -33.650958480, 0.0],\n",
    "    ['Re2O7', 2, 7, 8, -252.700, -581.45309683, 0.0],\n",
    "]\n",
    "\n",
    "# Gcorr_oxide = -9.243204045 + 2*go -40.700/calmol + 178.20963279 / 8\n",
    "# -12.42632685\n",
    "\n",
    "columns = ['Metal', '#M', '#O', '#N', 'G_form', 'E_oxide', 'Gcorr_oxide']\n",
    "df = pd.DataFrame(metals, columns=columns)\n",
    "\n",
    "df['G_form'] = df['G_form'] / df['#M'] / calmol\n",
    "df['G_oxide'] = (df['E_oxide'] + df['Gcorr_oxide'] ) / df['#M'] / df['#N'] #+ Gcorr_oxide\n",
    "df['G_metal'] = df['G_oxide'] - df['G_form'] - df['#O'] / df['#M'] * go\n",
    "\n",
    "print(df)"
   ]
  }
 ],
 "metadata": {
  "kernelspec": {
   "display_name": "base",
   "language": "python",
   "name": "python3"
  },
  "language_info": {
   "codemirror_mode": {
    "name": "ipython",
    "version": 3
   },
   "file_extension": ".py",
   "mimetype": "text/x-python",
   "name": "python",
   "nbconvert_exporter": "python",
   "pygments_lexer": "ipython3",
   "version": "3.11.5"
  }
 },
 "nbformat": 4,
 "nbformat_minor": 5
}
