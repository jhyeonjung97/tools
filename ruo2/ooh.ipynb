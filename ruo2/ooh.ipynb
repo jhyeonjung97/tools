{
 "cells": [
  {
   "cell_type": "code",
   "execution_count": 5,
   "id": "5810343d",
   "metadata": {},
   "outputs": [],
   "source": [
    "from ase.io import read\n",
    "\n",
    "atoms0 = read('/Users/hailey/Desktop/3_RuO2/3_ReRuO2_OER/3_ReRuO2/4_O_OOH/restart.json')\n",
    "atoms1 = read('/Users/hailey/Desktop/3_RuO2/3_ReRuO2_OER/6_ReRuO2_strain_1%/4_O_OOH/restart.json')\n",
    "atoms2 = read('/Users/hailey/Desktop/3_RuO2/3_ReRuO2_OER/7_ReRuO2_strain_2%/4_O_OOH/restart.json')\n",
    "\n",
    "cell0 = atoms0.cell\n",
    "cell1 = atoms1.cell\n",
    "cell2 = atoms2.cell\n",
    "\n",
    "atoms1.set_cell(cell0, scale_atoms=True)\n",
    "atoms1.write('/Users/hailey/Desktop/3_RuO2/3_ReRuO2_OER/a0.json')\n",
    "\n",
    "atoms1.set_cell(cell2, scale_atoms=True)\n",
    "atoms1.write('/Users/hailey/Desktop/3_RuO2/3_ReRuO2_OER/a2.json')"
   ]
  }
 ],
 "metadata": {
  "kernelspec": {
   "display_name": "base",
   "language": "python",
   "name": "python3"
  },
  "language_info": {
   "codemirror_mode": {
    "name": "ipython",
    "version": 3
   },
   "file_extension": ".py",
   "mimetype": "text/x-python",
   "name": "python",
   "nbconvert_exporter": "python",
   "pygments_lexer": "ipython3",
   "version": "3.10.8"
  }
 },
 "nbformat": 4,
 "nbformat_minor": 5
}
